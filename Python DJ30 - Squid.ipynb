{
 "cells": [
  {
   "cell_type": "code",
   "execution_count": 1,
   "metadata": {},
   "outputs": [
    {
     "data": {
      "application/vnd.jupyter.widget-view+json": {
       "model_id": "fc702c7dc3c0422fa4b146e3c7735e7a",
       "version_major": 2,
       "version_minor": 0
      },
      "text/plain": [
       "interactive(children=(IntSlider(value=1, description='n_scenarios', min=1), FloatSlider(value=0.19999999999999…"
      ]
     },
     "metadata": {},
     "output_type": "display_data"
    }
   ],
   "source": [
    "import numpy as np\n",
    "import pandas as pd\n",
    "import ipywidgets as widgets\n",
    "from IPython.display import display\n",
    "%load_ext autoreload\n",
    "%autoreload 2\n",
    "%matplotlib inline\n",
    "##          Optimistic  Neutral  Pessimistic\n",
    "##  mu      0.227       0.209    0.174\n",
    "##  sigma   0.115       0.128    0.153\n",
    "\n",
    "def gbm(n_years = 1, n_scenarios=100, mu=0.209, sigma=0.128, steps_per_year=12, s_0=1):\n",
    "    ##neutral scenarios\n",
    "    dt = 1/steps_per_year\n",
    "    n_steps = int(n_years*steps_per_year) + 1\n",
    "    rets_plus_1 = np.random.normal(loc=(1+mu)**dt, scale=(sigma*np.sqrt(dt)), size=(n_steps, n_scenarios))\n",
    "    rets_plus_1[0] = 1\n",
    "    prices = s_0*pd.DataFrame(rets_plus_1).cumprod()\n",
    "    return prices\n",
    "\n",
    "def show_gbm(n_scenarios, mu, sigma):\n",
    "    s_0=1\n",
    "    prices = gbm(n_scenarios=n_scenarios, mu=mu, sigma=sigma, s_0=s_0)\n",
    "    ax = prices.plot(legend=False, alpha =0.8, linewidth=2, figsize=(12,5))\n",
    "    ax.axhline(y=s_0, ls=\":\", color=\"red\")\n",
    "    ax.axhline(y=1.5, ls=\":\", color=\"red\")\n",
    "    ax.set_ylim(top=1.7)\n",
    "    ax.plot(0,s_0, marker=\"o\",color=\"darkred\", alpha=0.2)\n",
    "    \n",
    "##          Optimistic  Neutral  Pessimistic\n",
    "##  mu      0.227       0.209    0.174\n",
    "##  sigma   0.115       0.128    0.153\n",
    "\n",
    "gbm_controls = widgets.interactive(show_gbm, \n",
    "                                   n_scenarios=widgets.IntSlider(min=1, max=100, step=1, value=1), \n",
    "                                   mu=(0.174,0.227,0.001),\n",
    "                                   sigma=(0.115,0.153,0.001)\n",
    ")\n",
    "display(gbm_controls)"
   ]
  },
  {
   "cell_type": "code",
   "execution_count": null,
   "metadata": {},
   "outputs": [],
   "source": []
  }
 ],
 "metadata": {
  "kernelspec": {
   "display_name": "Python 3",
   "language": "python",
   "name": "python3"
  },
  "language_info": {
   "codemirror_mode": {
    "name": "ipython",
    "version": 3
   },
   "file_extension": ".py",
   "mimetype": "text/x-python",
   "name": "python",
   "nbconvert_exporter": "python",
   "pygments_lexer": "ipython3",
   "version": "3.8.5"
  }
 },
 "nbformat": 4,
 "nbformat_minor": 4
}
